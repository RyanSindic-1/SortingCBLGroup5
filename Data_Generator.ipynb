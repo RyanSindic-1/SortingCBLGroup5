{
 "cells": [
  {
   "cell_type": "code",
   "execution_count": 1,
   "id": "61dc3eea-7b9a-48ea-9379-e80c7714bac9",
   "metadata": {},
   "outputs": [
    {
     "name": "stdout",
     "output_type": "stream",
     "text": [
      "Generating datasets with randomized parameters...\n",
      "Dataset 1 created with 2799 parcels and 57 outfeeds\n",
      "Dataset 2 created with 1101 parcels and 33 outfeeds\n",
      "Dataset 3 created with 2374 parcels and 32 outfeeds\n",
      "Saving dataset 1 to PosiSorterData_1.xlsx...\n",
      "Saving dataset 2 to PosiSorterData_2.xlsx...\n",
      "Saving dataset 3 to PosiSorterData_3.xlsx...\n",
      "Successfully created 3 datasets with the following paths:\n",
      " - PosiSorterData_1.xlsx\n",
      " - PosiSorterData_2.xlsx\n",
      " - PosiSorterData_3.xlsx\n"
     ]
    }
   ],
   "source": [
    "import numpy as np\n",
    "from datetime import datetime, timedelta\n",
    "import pandas as pd\n",
    "\n",
    "# Code parameters\n",
    "u_parcels = 2000 # Expected number of parcels\n",
    "std_parcels = 800 # Standard dev. of parcels\n",
    "num_datasets = 3 # Number of datasets\n",
    "lower_limit_outfeeds = 20 # Lowest number of outfeeds\n",
    "upper_limit_outfeeds = 60 # Highest number of outfeeds\n",
    "\n",
    "# Function to generate synthetic parcel data\n",
    "def generate_parcel_data(num_parcels=int(np.random.normal(1500, 500)), start_time=\"2025-04-09 09:00:00\"):\n",
    "    base_time = datetime.strptime(start_time, \"%Y-%m-%d %H:%M:%S\")\n",
    "    data = []\n",
    "    \n",
    "    # Randomize the number of outfeeds between 20 and 60\n",
    "    total_outfeeds = np.random.randint(lower_limit_outfeeds, upper_limit_outfeeds)\n",
    "    \n",
    "    for i in range(1, num_parcels + 1):\n",
    "        # Arrival time with incremental randomness\n",
    "        arrival_delta = timedelta(milliseconds=np.random.randint(100, 3000))\n",
    "        base_time += arrival_delta\n",
    "        arrival_time = base_time\n",
    "        \n",
    "        # Parcel dimensions\n",
    "        length = round(np.random.normal(1.2, 0.3), 3)\n",
    "        width = round(np.random.normal(0.7, 0.3), 3)\n",
    "        height = round(np.random.normal(0.5, 0.3), 3)\n",
    "        weight = round(length * width * height * 1000 + np.random.normal(1000, 500), 1)\n",
    "        \n",
    "        # Create outfeed assignments with randomized number of assignments\n",
    "        # Assign to a random number between 10% and 40% of the outfeeds\n",
    "        min_outfeeds = 0\n",
    "        max_outfeeds = max(2, int(total_outfeeds * 0.4))\n",
    "        num_assigned_outfeeds = np.random.randint(min_outfeeds, max_outfeeds + 1)\n",
    "        outfeeds = [False] * total_outfeeds\n",
    "        true_indices = np.random.choice(range(total_outfeeds), size=num_assigned_outfeeds, replace=False)\n",
    "        for idx in true_indices:\n",
    "            outfeeds[idx] = True\n",
    "        \n",
    "        row = [i, arrival_time, length, width, height, weight] + outfeeds\n",
    "        data.append(row)\n",
    "    \n",
    "    columns = ['Parcel Number', 'Arrival Time', 'Length', 'Width', 'Height', 'Weight'] + [f'Outfeed {i}' for i in range(1, total_outfeeds + 1)]\n",
    "    return pd.DataFrame(data, columns=columns)\n",
    "\n",
    "# Function to generate random layout data\n",
    "def generate_layout_data():\n",
    "    layout = {\n",
    "        \"Layout property\": [\n",
    "            \"Belt Speed\",\n",
    "            \"Distance Infeeds to Scanner\",\n",
    "            \"Distance Scanner to Outfeeds\",\n",
    "            \"Distance between Outfeeds\",\n",
    "            \"Distance Infeeds to Arrival\"\n",
    "        ],\n",
    "        \"Value\": [\n",
    "            round(np.random.uniform(1.0, 2.0), 2),\n",
    "            round(np.random.uniform(10.0, 20.0), 1),\n",
    "            round(np.random.uniform(4.0, 6.0), 1),\n",
    "            round(np.random.uniform(1.5, 2.5), 1),\n",
    "            round(np.random.uniform(10.0, 15.0), 1)\n",
    "        ],\n",
    "        \"Unit\": [\"m/s\", \"m\", \"m\", \"m\", \"m\"]\n",
    "    }\n",
    "    return pd.DataFrame(layout)\n",
    "\n",
    "# Generate datasets\n",
    "datasets = []\n",
    "print(\"Generating datasets with randomized parameters...\")\n",
    "for i in range(num_datasets):\n",
    "    # Force at least 1000 parcels\n",
    "    parcels_df = generate_parcel_data(num_parcels=int(np.random.normal(u_parcels, std_parcels)))\n",
    "    \n",
    "    # Ensure we have at least 1000 parcels\n",
    "    while len(parcels_df) < 1000:\n",
    "        parcels_df = generate_parcel_data(num_parcels=int(np.random.normal(u_parcels, std_parcels)))\n",
    "    \n",
    "    print(f\"Dataset {i+1} created with {len(parcels_df)} parcels and {len(parcels_df.columns) - 6} outfeeds\")\n",
    "    layout_df = generate_layout_data()\n",
    "    datasets.append((parcels_df, layout_df))\n",
    "\n",
    "# Save datasets to Excel files\n",
    "output_paths = []\n",
    "for i, (parcels, layout) in enumerate(datasets, start=1):\n",
    "    output_path = f\"PosiSorterData_{i}.xlsx\"  # Fixed path formatting\n",
    "    print(f\"Saving dataset {i} to {output_path}...\")\n",
    "    with pd.ExcelWriter(output_path, datetime_format='YYYY-MM-DD HH:MM:SS.000') as writer:\n",
    "        parcels.to_excel(writer, sheet_name=\"Parcels\", index=False)\n",
    "        layout.to_excel(writer, sheet_name=\"Layout\", index=False)\n",
    "    output_paths.append(output_path)\n",
    "\n",
    "print(f\"Successfully created {len(output_paths)} datasets with the following paths:\")\n",
    "for path in output_paths:\n",
    "    print(f\" - {path}\")"
   ]
  },
  {
   "cell_type": "code",
   "execution_count": 1,
   "id": "1ddb0b34",
   "metadata": {},
   "outputs": [
    {
     "name": "stdout",
     "output_type": "stream",
     "text": [
      "Defaulting to user installation because normal site-packages is not writeable\n",
      "Collecting joblib\n",
      "  Downloading joblib-1.5.1-py3-none-any.whl.metadata (5.6 kB)\n",
      "Note: you may need to restart the kernel to use updated packages.\n"
     ]
    },
    {
     "name": "stderr",
     "output_type": "stream",
     "text": [
      "ERROR: Could not find a version that satisfies the requirement sklearn.ensemble (from versions: none)\n",
      "\n",
      "[notice] A new release of pip is available: 25.0.1 -> 25.1.1\n",
      "[notice] To update, run: C:\\Users\\20231620\\AppData\\Local\\Microsoft\\WindowsApps\\PythonSoftwareFoundation.Python.3.12_qbz5n2kfra8p0\\python.exe -m pip install --upgrade pip\n",
      "ERROR: No matching distribution found for sklearn.ensemble\n"
     ]
    }
   ],
   "source": [
    "pip install joblib sklearn.ensemble"
   ]
  }
 ],
 "metadata": {
  "kernelspec": {
   "display_name": "Python 3",
   "language": "python",
   "name": "python3"
  },
  "language_info": {
   "codemirror_mode": {
    "name": "ipython",
    "version": 3
   },
   "file_extension": ".py",
   "mimetype": "text/x-python",
   "name": "python",
   "nbconvert_exporter": "python",
   "pygments_lexer": "ipython3",
   "version": "3.12.10"
  }
 },
 "nbformat": 4,
 "nbformat_minor": 5
}
