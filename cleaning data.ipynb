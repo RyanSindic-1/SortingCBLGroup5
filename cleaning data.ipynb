{
 "cells": [
  {
   "cell_type": "code",
   "execution_count": 46,
   "id": "f3246e38-f1f0-49f0-9d85-6eb64d879215",
   "metadata": {},
   "outputs": [
    {
     "name": "stdout",
     "output_type": "stream",
     "text": [
      "Initial shape dataframe: (300, 9)\n",
      "Initial shape dataframe: (2000, 21)\n",
      "Shape after removing outliers: (295, 9)\n",
      "Shape after removing outliers: (1996, 21)\n",
      "Shape after removing outliers & only false: (293, 9)\n",
      "Shape after removing outliers & only false: (1994, 21)\n"
     ]
    }
   ],
   "source": [
    "import pandas as pd\n",
    "\n",
    "#reading in the data and converting into pandas\n",
    "path1 = r\"C:\\Users\\20235296\\Documents\\2de Jaar IE\\CBL\\PosiSorterData1.xlsx\"\n",
    "path2 = r\"C:\\Users\\20235296\\Documents\\2de Jaar IE\\CBL\\PosiSorterData2.xlsx\"\n",
    "df1 = pd.read_excel(path1)\n",
    "df2 = pd.read_excel(path2)\n",
    "\n",
    "#dropping rows with missing or mistaken entries\n",
    "df1 = df1.dropna().copy()\n",
    "df2 = df2.dropna().copy()\n",
    "df1 = df1.reset_index(drop=True)\n",
    "df2 = df2.reset_index(drop=True)\n",
    "\n",
    "print(\"Initial shape dataframe:\", df1.shape)\n",
    "print(\"Initial shape dataframe:\", df2.shape)\n",
    "\n",
    "#removing outliers using inter quartile range\n",
    "def remove_outliers_iqr(df, columns):\n",
    "    for col in columns:\n",
    "        Q1 = df[col].quantile(0.25)\n",
    "        Q3 = df[col].quantile(0.75)\n",
    "        IQR = Q3 - Q1\n",
    "        lower_bound = Q1 - 2 * IQR\n",
    "        upper_bound = Q3 + 2 * IQR\n",
    "        df = df[df[col].between(lower_bound, upper_bound)]\n",
    "    return df.reset_index(drop=True)\n",
    "\n",
    "#removing rows with false for every outfeed (these cannot be handled by the system)\n",
    "def drop_rows_without_true_outfeed(df, prefix=\"Outfeed\"):\n",
    "    outfeed_cols = [col for col in df.columns if col.startswith(prefix)]\n",
    "    if not outfeed_cols:\n",
    "        return df\n",
    "    mask = df[outfeed_cols].any(axis=1)\n",
    "    return df[mask].reset_index(drop=True)\n",
    "\n",
    "columns_to_check = [\"Length\", \"Width\", \"Height\"]\n",
    "df1 = remove_outliers_iqr(df1, columns_to_check)\n",
    "df2 = remove_outliers_iqr(df2, columns_to_check)\n",
    "\n",
    "print(\"Shape after removing outliers:\", df1.shape)\n",
    "print(\"Shape after removing outliers:\", df2.shape)\n",
    "\n",
    "df1 = drop_rows_without_true_outfeed(df1)\n",
    "df2 = drop_rows_without_true_outfeed(df2)\n",
    "\n",
    "print(\"Shape after removing outliers & only false:\", df1.shape)\n",
    "print(\"Shape after removing outliers & only false:\", df2.shape)"
   ]
  },
  {
   "cell_type": "code",
   "execution_count": 37,
   "id": "49d951bf-6ad7-473e-80f8-fe2227b6b728",
   "metadata": {},
   "outputs": [],
   "source": [
    "df1.to_excel('Cleaned_PosiSorterData1.xlsx', index=False, engine='openpyxl')\n",
    "df2.to_excel('Cleaned_PosiSorterData2.xlsx', index=False, engine='openpyxl')"
   ]
  }
 ],
 "metadata": {
  "kernelspec": {
   "display_name": "Python 3 (ipykernel)",
   "language": "python",
   "name": "python3"
  },
  "language_info": {
   "codemirror_mode": {
    "name": "ipython",
    "version": 3
   },
   "file_extension": ".py",
   "mimetype": "text/x-python",
   "name": "python",
   "nbconvert_exporter": "python",
   "pygments_lexer": "ipython3",
   "version": "3.12.7"
  }
 },
 "nbformat": 4,
 "nbformat_minor": 5
}
